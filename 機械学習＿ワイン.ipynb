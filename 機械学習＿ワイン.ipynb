{
 "cells": [
  {
   "cell_type": "code",
   "execution_count": 3,
   "metadata": {},
   "outputs": [],
   "source": [
    "import chainer\n",
    "import warnings\n",
    "import chainer.links as L\n",
    "import numpy as np\n",
    "import chainer.functions as F\n",
    "import pandas as pd\n",
    "from chainer import training\n",
    "from chainer.training import extensions\n",
    "import json"
   ]
  },
  {
   "cell_type": "code",
   "execution_count": 4,
   "metadata": {},
   "outputs": [],
   "source": [
    "df = pd.read_csv('wine_class.csv')"
   ]
  },
  {
   "cell_type": "code",
   "execution_count": 5,
   "metadata": {},
   "outputs": [],
   "source": [
    "t = df.iloc[:, 0]\n",
    "\n",
    "x = df.iloc[:, 1:]"
   ]
  },
  {
   "cell_type": "code",
   "execution_count": 6,
   "metadata": {},
   "outputs": [],
   "source": [
    "t = t.values -1\n",
    "x = x.values"
   ]
  },
  {
   "cell_type": "code",
   "execution_count": 7,
   "metadata": {},
   "outputs": [],
   "source": [
    "x = x.astype('float32')\n",
    "t = t.astype('int32')"
   ]
  },
  {
   "cell_type": "code",
   "execution_count": 8,
   "metadata": {},
   "outputs": [],
   "source": [
    "dataset = list(zip(x, t))"
   ]
  },
  {
   "cell_type": "code",
   "execution_count": 9,
   "metadata": {},
   "outputs": [],
   "source": [
    "n_train = int(len(dataset) * 0.7)\n",
    "\n",
    "# 訓練データ(train)と検証データ(test)に分割\n",
    "train, test = chainer.datasets.split_dataset_random(dataset, n_train, seed=1)"
   ]
  },
  {
   "cell_type": "code",
   "execution_count": 10,
   "metadata": {},
   "outputs": [],
   "source": [
    "n_train = int(len(train) * 0.7)\n",
    "\n",
    "train, val = chainer.datasets.split_dataset_random(train, n_train,seed = 1)"
   ]
  },
  {
   "cell_type": "code",
   "execution_count": 11,
   "metadata": {},
   "outputs": [],
   "source": [
    "class NN(chainer.Chain):\n",
    "\n",
    "    # モデルの構造\n",
    "    def __init__(self, n_mid_units=5, n_out=3):\n",
    "        super(NN ,self).__init__()\n",
    "        with self.init_scope():\n",
    "            self.fc1 = L.Linear(None, n_mid_units)\n",
    "            self.fc2 = L.Linear(None, n_out)\n",
    "            self.bn = L.BatchNormalization(10)  # Batch Normalizationは平均と分散がパラメータ\n",
    "\n",
    "    # 順伝播\n",
    "    def __call__(self, x):\n",
    "        h = self.bn(x)  # Batch Normalizationの処理を追加\n",
    "        h = self.fc1(h)\n",
    "        h = F.relu(h)\n",
    "        h = self.fc2(h)\n",
    "        return h\n",
    "    \n",
    "# 乱数のシードを固定\n",
    "np.random.seed(1)\n",
    "\n",
    "# モデルのインスタンス化\n",
    "nn = NN()\n",
    "model = L.Classifier(nn)\n",
    "\n",
    "# Optimizerの定義\n",
    "optimizer = chainer.optimizers.SGD()\n",
    "optimizer.setup(model)  # modelと紐付ける\n",
    "\n",
    "# Iteratorの定義\n",
    "batchsize = 10\n",
    "train_iter = chainer.iterators.SerialIterator(train, batchsize)\n",
    "test_iter = chainer.iterators.SerialIterator(test, batchsize, repeat=False, shuffle=False)\n",
    "\n",
    "# Updaterの定義\n",
    "updater = chainer.training.StandardUpdater(train_iter, optimizer, device=-1)\n",
    "\n",
    "# trainerとそのextensionsの設定\n",
    "epoch = 50\n",
    "trainer = training.Trainer(updater, (epoch, 'epoch'), out='result/wine')\n",
    "trainer.extend(extensions.Evaluator(test_iter, model, device=-1))\n",
    "trainer.extend(extensions.LogReport(trigger=(1, 'epoch')))\n",
    "trainer.extend(extensions.PrintReport(['epoch', 'main/accuracy', 'validation/main/accuracy', 'main/loss', 'validation/main/loss', 'elapsed_time']), trigger=(1, 'epoch'))"
   ]
  },
  {
   "cell_type": "code",
   "execution_count": 12,
   "metadata": {},
   "outputs": [
    {
     "name": "stdout",
     "output_type": "stream",
     "text": [
      "epoch       main/accuracy  validation/main/accuracy  main/loss   validation/main/loss  elapsed_time\n",
      "\u001b[J1           0.388889       0.333333                  1.05478     2.08857               0.0173956     \n",
      "\u001b[J2           0.488889       0.366667                  1.03452     1.17053               0.0327727     \n",
      "\u001b[J3           0.5            0.4                       1.01345     1.00288               0.0461566     \n",
      "\u001b[J4           0.6            0.541667                  0.986239    0.959816              0.0618836     \n",
      "\u001b[J5           0.6            0.55                      0.968737    0.948747              0.0757442     \n",
      "\u001b[J6           0.711111       0.566667                  0.933829    0.936281              0.0902885     \n",
      "\u001b[J7           0.777778       0.583333                  0.883878    0.919                 0.104728      \n",
      "\u001b[J8           0.7625         0.6                       0.876588    0.903385              0.118077      \n",
      "\u001b[J9           0.844444       0.616667                  0.851275    0.88314               0.132571      \n",
      "\u001b[J10          0.8375         0.633333                  0.843144    0.868245              0.145949      \n",
      "\u001b[J11          0.822222       0.65                      0.841909    0.838328              0.161875      \n",
      "\u001b[J12          0.877778       0.65                      0.825877    0.83464               0.177214      \n",
      "\u001b[J13          0.8625         0.683333                  0.768431    0.81447               0.190746      \n",
      "\u001b[J14          0.8            0.683333                  0.780665    0.796652              0.205885      \n",
      "\u001b[J15          0.8625         0.683333                  0.758729    0.785971              0.220152      \n",
      "\u001b[J16          0.811111       0.7                       0.754471    0.76655               0.235578      \n",
      "\u001b[J17          0.8            0.7                       0.765841    0.752394              0.250783      \n",
      "\u001b[J18          0.925          0.716667                  0.680867    0.734103              0.265347      \n",
      "\u001b[J19          0.855556       0.716667                  0.694422    0.719384              0.280384      \n",
      "\u001b[J20          0.8875         0.716667                  0.659739    0.709306              0.294298      \n",
      "\u001b[J21          0.911111       0.716667                  0.630856    0.698361              0.310096      \n",
      "\u001b[J22          0.9            0.758333                  0.635585    0.679647              0.325928      \n",
      "\u001b[J23          0.8875         0.733333                  0.596569    0.669561              0.339709      \n",
      "\u001b[J24          0.877778       0.733333                  0.64377     0.654872              0.354961      \n",
      "\u001b[J25          0.925          0.733333                  0.55629     0.645422              0.368802      \n",
      "\u001b[J26          0.9            0.733333                  0.553643    0.634065              0.384382      \n",
      "\u001b[J27          0.844444       0.733333                  0.572372    0.616723              0.400698      \n",
      "\u001b[J28          0.875          0.733333                  0.525873    0.609382              0.415272      \n",
      "\u001b[J29          0.922222       0.733333                  0.516816    0.598612              0.430472      \n",
      "\u001b[J30          0.9125         0.733333                  0.463935    0.586175              0.445087      \n",
      "\u001b[J31          0.922222       0.766667                  0.495892    0.572231              0.461546      \n",
      "\u001b[J32          0.877778       0.766667                  0.485504    0.552252              0.477475      \n",
      "\u001b[J33          0.8875         0.766667                  0.478438    0.548363              0.491268      \n",
      "\u001b[J34          0.9            0.816667                  0.446771    0.530553              0.506581      \n",
      "\u001b[J35          0.925          0.816667                  0.416637    0.521755              0.520757      \n",
      "\u001b[J36          0.911111       0.841667                  0.437791    0.517503              0.536569      \n",
      "\u001b[J37          0.9            0.816667                  0.412083    0.498051              0.55246       \n",
      "\u001b[J38          0.925          0.816667                  0.424037    0.481868              0.566533      \n",
      "\u001b[J39          0.922222       0.816667                  0.393971    0.475429              0.581423      \n",
      "\u001b[J40          0.9125         0.816667                  0.386102    0.4734                0.595495      \n",
      "\u001b[J41          0.911111       0.858333                  0.379426    0.456933              0.610441      \n",
      "\u001b[J42          0.933333       0.875                     0.355414    0.459515              0.626182      \n",
      "\u001b[J43          0.9            0.858333                  0.422565    0.443033              0.641381      \n",
      "\u001b[J44          0.911111       0.816667                  0.346535    0.445875              0.65714       \n",
      "\u001b[J45          0.8875         0.833333                  0.394554    0.429828              0.671261      \n",
      "\u001b[J46          0.933333       0.875                     0.316831    0.421953              0.687059      \n",
      "\u001b[J47          0.933333       0.875                     0.328669    0.411107              0.702799      \n",
      "\u001b[J48          0.9125         0.816667                  0.341931    0.413087              0.717124      \n",
      "\u001b[J49          0.911111       0.85                      0.36827     0.400382              0.732496      \n",
      "\u001b[J50          0.9625         0.833333                  0.25343     0.402759              0.746915      \n"
     ]
    }
   ],
   "source": [
    "trainer.run()"
   ]
  },
  {
   "cell_type": "code",
   "execution_count": 13,
   "metadata": {},
   "outputs": [],
   "source": [
    "# logファイルから結果の読み込み\n",
    "with open('result/wine/log') as f:\n",
    "    logs = json.load(f)\n",
    "    results = pd.DataFrame(logs)"
   ]
  },
  {
   "cell_type": "code",
   "execution_count": 14,
   "metadata": {},
   "outputs": [
    {
     "data": {
      "text/plain": [
       "<matplotlib.axes._subplots.AxesSubplot at 0x7f29ac71bbe0>"
      ]
     },
     "execution_count": 14,
     "metadata": {},
     "output_type": "execute_result"
    },
    {
     "data": {
      "image/png": "[encoded data removed]",
      "text/plain": [
       "<matplotlib.figure.Figure at 0x7f29ac71b4e0>"
      ]
     },
     "metadata": {},
     "output_type": "display_data"
    }
   ],
   "source": [
    "# accuracy（精度）を表示\n",
    "%matplotlib inline\n",
    "results[['main/accuracy', 'validation/main/accuracy']].plot()"
   ]
  },
  {
   "cell_type": "code",
   "execution_count": 15,
   "metadata": {},
   "outputs": [
    {
     "data": {
      "text/plain": [
       "<matplotlib.axes._subplots.AxesSubplot at 0x7f29ac71b1d0>"
      ]
     },
     "execution_count": 15,
     "metadata": {},
     "output_type": "execute_result"
    },
    {
     "data": {
      "image/png": "[encoded data removed]",
      "text/plain": [
       "<matplotlib.figure.Figure at 0x7f29ae4c2d30>"
      ]
     },
     "metadata": {},
     "output_type": "display_data"
    }
   ],
   "source": [
    "# loss（損失関数）を表示\n",
    "results[['main/loss', 'validation/main/loss']].plot()"
   ]
  },
  {
   "cell_type": "code",
   "execution_count": 30,
   "metadata": {},
   "outputs": [
    {
     "name": "stdout",
     "output_type": "stream",
     "text": [
      "Test accuracy: 0.833333313465\n"
     ]
    }
   ],
   "source": [
    "test_evaluator = extensions.Evaluator(test_iter, model)\n",
    "results = test_evaluator()\n",
    "print('Test accuracy:', results['main/accuracy'])"
   ]
  }
 ],
 "metadata": {
  "kernelspec": {
   "display_name": "Python 3",
   "language": "python",
   "name": "python3"
  },
  "language_info": {
   "codemirror_mode": {
    "name": "ipython",
    "version": 3
   },
   "file_extension": ".py",
   "mimetype": "text/x-python",
   "name": "python",
   "nbconvert_exporter": "python",
   "pygments_lexer": "ipython3",
   "version": "3.6.7"
  }
 },
 "nbformat": 4,
 "nbformat_minor": 2
}
